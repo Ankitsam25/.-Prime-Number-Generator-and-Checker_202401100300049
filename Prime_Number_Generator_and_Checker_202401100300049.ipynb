{
  "nbformat": 4,
  "nbformat_minor": 0,
  "metadata": {
    "colab": {
      "provenance": []
    },
    "kernelspec": {
      "name": "python3",
      "display_name": "Python 3"
    },
    "language_info": {
      "name": "python"
    }
  },
  "cells": [
    {
      "cell_type": "code",
      "execution_count": null,
      "metadata": {
        "id": "5TqKpm5BiIlB"
      },
      "outputs": [],
      "source": [
        "def is_prime(num):\n",
        "    if num <= 1:\n",
        "        return False\n",
        "    for i in range(2, int(num ** 0.5) + 1):\n",
        "        if num % i == 0:\n",
        "            return False\n",
        "    return True\n",
        "\n",
        "while True:\n",
        "    # Ask the user for a number\n",
        "    number = int(input(\"Enter a number to check if it's prime: \"))\n",
        "\n",
        "    if is_prime(number):\n",
        "        print(f\"{number} is a prime number!\")\n",
        "    else:\n",
        "        print(f\"{number} is not a prime number.\")\n",
        "\n",
        "    # Ask if the user wants to continue\n",
        "    continue_check = input(\"Do you want to check another number? (yes/no): \").lower()\n",
        "    if continue_check != 'yes':\n",
        "        print(\"Exiting the program. Goodbye!\")\n",
        "        break\n"
      ]
    }
  ]
}